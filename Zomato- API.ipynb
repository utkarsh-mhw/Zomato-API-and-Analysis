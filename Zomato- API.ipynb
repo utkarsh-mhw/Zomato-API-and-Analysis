{
 "cells": [
  {
   "cell_type": "markdown",
   "metadata": {},
   "source": [
    "Zomato APIs give you access to the freshest and most exhaustive information for over 1.5 million restaurants across 10,000 cities globally<br>By Collecting the data using Zomato API one can recommend restaurants on the basis of user’s affinity to specific cuisines, establishment types, locations, and price bands.<br>We can find out whether restaurant support online reservation or not.\n",
    "We can find what is the most popular and/ or exclusive/new at a given location & time."
   ]
  },
  {
   "cell_type": "code",
   "execution_count": 1,
   "metadata": {},
   "outputs": [],
   "source": [
    "import json\n",
    "import requests as req"
   ]
  },
  {
   "cell_type": "code",
   "execution_count": null,
   "metadata": {},
   "outputs": [],
   "source": [
    "uk = \"**************************\"\n",
    "basic='https://developers.zomato.com/api/v2.1'"
   ]
  },
  {
   "cell_type": "markdown",
   "metadata": {},
   "source": [
    "# Cuisine related data"
   ]
  },
  {
   "cell_type": "markdown",
   "metadata": {},
   "source": [
    "### cuisine_id of ‘Mexican’ cuisine using Zomato API."
   ]
  },
  {
   "cell_type": "code",
   "execution_count": null,
   "metadata": {},
   "outputs": [],
   "source": [
    "hd={'user-key':uk,'Accept': 'application/json'}\n",
    "par={'city_id':280}\n",
    "resp=req.get('https://developers.zomato.com/api/v2.1/cuisines',params=par,headers=hd)\n",
    "\n",
    "data=json.loads(resp.text)\n",
    "for i in data['cuisines']:\n",
    "    if(i['cuisine']['cuisine_name']=='Mexican'):\n",
    "        print(i['cuisine']['cuisine_id'])"
   ]
  },
  {
   "cell_type": "markdown",
   "metadata": {},
   "source": [
    "### Fetch the entityid and entitytype of place Connaught Place."
   ]
  },
  {
   "cell_type": "code",
   "execution_count": null,
   "metadata": {},
   "outputs": [],
   "source": [
    "\n",
    "\n",
    "par={'query':'Connaught Place'}\n",
    "\n",
    "resp=req.get(link,params=par,headers=hd)\n",
    "# print(resp.status_code)\n",
    "# print(resp.url)\n",
    "data=json.loads(resp.text)\n",
    "print(data['location_suggestions'][0]['entity_type'], data['location_suggestions'][0]['entity_id'])"
   ]
  },
  {
   "cell_type": "markdown",
   "metadata": {},
   "source": [
    "### Fetch the top 10 best-rated restaurant serving ‘Mexican’ cuisine present in Connaught Place."
   ]
  },
  {
   "cell_type": "code",
   "execution_count": null,
   "metadata": {},
   "outputs": [],
   "source": [
    "link=basic+'/search'\n",
    "par={'entity_id':104,'entity_type':'subzone','cuisines':73,'count':10,'sort':'rating','order':'desc'}\n",
    "resp=req.get(link,headers=hd,params=par)\n",
    "# print(resp.status_code)\n",
    "data=json.loads(resp.text)\n",
    "for i in data['restaurants']:\n",
    "    print(i['restaurant']['name'],end=' ')\n",
    "    print(i['restaurant']['user_rating']['aggregate_rating'],i['restaurant']['id'])\n",
    "# print(type(data['restaurants']))"
   ]
  },
  {
   "cell_type": "markdown",
   "metadata": {},
   "source": [
    "### Fetch the best-rated restaurant for ‘Mexican’ cuisine with category type ‘ Cafes’ present in Connaught Place using Zomato API."
   ]
  },
  {
   "cell_type": "code",
   "execution_count": null,
   "metadata": {},
   "outputs": [],
   "source": [
    "link=basic+'/search'\n",
    "par={'entity_id':104,'entity_type':'subzone','cuisines':73,'count':10,'category':6,'sort':'rating','order':'desc'}\n",
    "resp=req.get(link,headers=hd,params=par)\n",
    "# print(resp.status_code)\n",
    "data=json.loads(resp.text)\n",
    "for i in data['restaurants']:\n",
    "    print(i['restaurant']['name'],end=' ')\n",
    "    print(i['restaurant']['user_rating']['aggregate_rating'],i['restaurant']['id'])"
   ]
  },
  {
   "cell_type": "markdown",
   "metadata": {},
   "source": [
    "### Fetch the latest review of the best-rated restaurant for ‘Mexican’ cuisine with Category type ‘Cafes’ present in Connaught Place using Zomato AP"
   ]
  },
  {
   "cell_type": "code",
   "execution_count": null,
   "metadata": {},
   "outputs": [],
   "source": [
    "link=basic+'/reviews'\n",
    "par={'res_id':18729557}\n",
    "resp=req.get(link,params=par,headers=hd)\n",
    "# print(resp.status_code)\n",
    "data=json.loads(resp.text)\n",
    "# data\n",
    "# for i in data:\n",
    "#     print(i)\n",
    "for i in data['user_reviews']:\n",
    "    print(i['review']['user']['name'], i['review']['rating'] ,i['review']['review_text'])\n",
    "#     print('------------------------')\n"
   ]
  },
  {
   "cell_type": "markdown",
   "metadata": {},
   "source": [
    "# User Review related data"
   ]
  },
  {
   "cell_type": "markdown",
   "metadata": {},
   "source": [
    "### Fetch the details of any restaurant using Zomato API.<br>user rating, the average cost for two, cuisines and address "
   ]
  },
  {
   "cell_type": "code",
   "execution_count": null,
   "metadata": {},
   "outputs": [],
   "source": [
    "link=basic+'/restaurant'\n",
    "resp=req.get(link,params={'res_id':18241524},headers=hd)\n",
    "# print(resp.status_code)\n",
    "data=json.loads(resp.text)\n",
    "print(data['user_rating']['aggregate_rating'])\n",
    "print(data['average_cost_for_two'])\n",
    "print(data['cuisines'])\n",
    "print(data['location']['address'])"
   ]
  },
  {
   "cell_type": "markdown",
   "metadata": {},
   "source": [
    "### Fetch the latest review of above restaurant using Zomato API."
   ]
  },
  {
   "cell_type": "code",
   "execution_count": null,
   "metadata": {},
   "outputs": [],
   "source": [
    "link=basic+'/reviews'\n",
    "par={'res_id':18241524}\n",
    "resp=req.get(link,params=par,headers=hd)\n",
    "# print(resp.status_code)\n",
    "data=json.loads(resp.text)\n",
    "# name1 user_rating1 review_text1\n",
    "for i in data['user_reviews']:\n",
    "    print(i['review']['user']['name'], i['review']['rating'], i['review']['review_text'])\n",
    "#     print(\"---------------------------\")"
   ]
  },
  {
   "cell_type": "markdown",
   "metadata": {},
   "source": [
    "# Disstance related data"
   ]
  },
  {
   "cell_type": "markdown",
   "metadata": {},
   "source": [
    "### Fetch the cuisine_id of of cuisine ‘BBQ’ using Zomato API."
   ]
  },
  {
   "cell_type": "code",
   "execution_count": null,
   "metadata": {},
   "outputs": [],
   "source": [
    "par={'city_id':1}\n",
    "link=basic+'/cuisines'\n",
    "resp=req.get(link,params=par,headers=hd)\n",
    "# print(resp.status_code)\n",
    "# print(resp.url)\n",
    "data=json.loads(resp.text)\n",
    "for i in data['cuisines']:\n",
    "    if(i['cuisine']['cuisine_name']=='BBQ'):\n",
    "        print(i['cuisine']['cuisine_id'])"
   ]
  },
  {
   "cell_type": "markdown",
   "metadata": {},
   "source": [
    "### Fetch the list of the top 10 restaurants serving cuisine ‘BBQ’ which are nearest to a given location"
   ]
  },
  {
   "cell_type": "code",
   "execution_count": null,
   "metadata": {},
   "outputs": [],
   "source": [
    "lt=\"28.697522\" \n",
    "lo=\"77.140681\"\n",
    "link=basic+'/search'\n",
    "par={'count':10,'lat':lt ,'lon':lo,'cuisines':'BBQ','sort':'real_distance','order':'asc'}\n",
    "resp=req.get(link,params=par,headers=hd)\n",
    "# print(resp.status_code)\n",
    "\n",
    "data=json.loads(resp.text)\n",
    "for i in data['restaurants']:\n",
    "    print(i['restaurant']['name'],end=' ')\n",
    "    if(i['restaurant']['user_rating']['aggregate_rating'] != 0):\n",
    "        print(i['restaurant']['user_rating']['aggregate_rating'],end=' ')\n",
    "    print(i['restaurant']['id'],end=' ')\n",
    "    print(i['restaurant']['location']['locality'])"
   ]
  },
  {
   "cell_type": "markdown",
   "metadata": {},
   "source": [
    "### Fetch the latest review of the restaurant serving cuisine ‘BBQ’ which is most nearest to you location"
   ]
  },
  {
   "cell_type": "code",
   "execution_count": null,
   "metadata": {},
   "outputs": [],
   "source": [
    "link=basic+'/reviews'\n",
    "par={'res_id':18204820}\n",
    "resp=req.get(link,params=par,headers=hd)\n",
    "# print(resp.status_code)\n",
    "data=json.loads(resp.text)\n",
    "# name1 user_rating1 review_text1\n",
    "for i in data['user_reviews']:\n",
    "    print(i['review']['user']['name'], i['review']['rating'], i['review']['review_text'])\n"
   ]
  },
  {
   "cell_type": "markdown",
   "metadata": {},
   "source": [
    "###  Fetch the list of top 10 best-restaurant present in a radius of 4 km of your location."
   ]
  },
  {
   "cell_type": "code",
   "execution_count": null,
   "metadata": {},
   "outputs": [],
   "source": [
    "link=basic+'/search'\n",
    "lt=np.double(28.697675) \n",
    "lo=np.double(77.140627)\n",
    "r=np.double(4000.0)\n",
    "par={'count':10,'lat':lt,'lon':lo,'radius':r,'sort':'rating','order':'desc'}\n",
    "resp=req.get(link,params=par,headers=hd)\n",
    "# print(resp.status_code)\n",
    "data=json.loads(resp.text)\n",
    "# data\n",
    "# name_1 rating_1 id_1 locality_1\n",
    "for i in data['restaurants']:\n",
    "    print(i['restaurant']['name'] ,i['restaurant']['user_rating']['aggregate_rating'] ,i['restaurant']['id'] ,i['restaurant']['location']['locality'])\n",
    "    "
   ]
  },
  {
   "cell_type": "code",
   "execution_count": null,
   "metadata": {},
   "outputs": [],
   "source": []
  }
 ],
 "metadata": {
  "kernelspec": {
   "display_name": "Python 3",
   "language": "python",
   "name": "python3"
  },
  "language_info": {
   "codemirror_mode": {
    "name": "ipython",
    "version": 3
   },
   "file_extension": ".py",
   "mimetype": "text/x-python",
   "name": "python",
   "nbconvert_exporter": "python",
   "pygments_lexer": "ipython3",
   "version": "3.7.6"
  }
 },
 "nbformat": 4,
 "nbformat_minor": 4
}
